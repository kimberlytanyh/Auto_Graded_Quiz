{
 "cells": [
  {
   "cell_type": "markdown",
   "metadata": {},
   "source": [
    "# Assignment 5"
   ]
  },
  {
   "cell_type": "code",
   "execution_count": 9,
   "metadata": {},
   "outputs": [
    {
     "name": "stdout",
     "output_type": "stream",
     "text": [
      "Enter Question #1 answer: B\n",
      "Enter Question #2 answer: A\n",
      "Enter Question #3 answer: B\n",
      "Enter Question #4 answer: B\n",
      "Enter Question #5 answer: C\n",
      "Enter Question #6 answer: A\n",
      "Enter Question #7 answer: D\n",
      "Enter Question #8 answer: B\n",
      "Enter Question #9 answer: C\n",
      "Enter Question #10 answer: B\n",
      "Answers written into quiz_answer.txt.\n"
     ]
    }
   ],
   "source": [
    "def answer():\n",
    "    answer_key=open('quiz_answer.txt','w')\n",
    "    for question_no in range (1,11):\n",
    "        answer = input(\"Enter Question #\" + str(question_no)+ \" answer: \")\n",
    "        answer_key.write((answer)+ '\\n')\n",
    "    answer_key.close()\n",
    "    print(\"Answers written into quiz_answer.txt.\")\n",
    "    \n",
    "answer()\n"
   ]
  }
 ],
 "metadata": {
  "kernelspec": {
   "display_name": "Python 3 (ipykernel)",
   "language": "python",
   "name": "python3"
  },
  "language_info": {
   "codemirror_mode": {
    "name": "ipython",
    "version": 3
   },
   "file_extension": ".py",
   "mimetype": "text/x-python",
   "name": "python",
   "nbconvert_exporter": "python",
   "pygments_lexer": "ipython3",
   "version": "3.8.11"
  }
 },
 "nbformat": 4,
 "nbformat_minor": 4
}
